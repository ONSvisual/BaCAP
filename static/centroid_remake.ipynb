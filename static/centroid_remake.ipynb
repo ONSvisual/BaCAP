{
 "cells": [
  {
   "cell_type": "code",
   "execution_count": 1,
   "metadata": {},
   "outputs": [],
   "source": [
    "import pandas as pd \n",
    "from haversine import haversine,Unit\n",
    "from p_tqdm import p_map\n",
    "import numpy as np\n"
   ]
  },
  {
   "cell_type": "code",
   "execution_count": 2,
   "metadata": {},
   "outputs": [],
   "source": [
    "cdata = pd.read_csv('oa21-data-v2.csv')"
   ]
  },
  {
   "cell_type": "code",
   "execution_count": null,
   "metadata": {},
   "outputs": [],
   "source": []
  },
  {
   "cell_type": "code",
   "execution_count": 3,
   "metadata": {},
   "outputs": [],
   "source": [
    "coords = cdata[['lat','lng']].values\n",
    "\n",
    "def get_dist(item):\n",
    "    def fn(x):\n",
    "        return haversine(x,item,unit=Unit.METERS)\n",
    "        \n",
    "    dist = np.min(abs(coords-item),axis = 1)\n",
    "\n",
    "    keep = [val for (_, val) in sorted(zip(dist,coords), key=lambda x: x[0])][:10]\n",
    "\n",
    "    distance = list(map(fn,keep))\n",
    "    distance.sort()\n",
    "\n",
    "    # print(keep,'---',item)\n",
    "    return distance[1]\n",
    "\n",
    "\n",
    "# get_dist(coords[10000])\n"
   ]
  },
  {
   "cell_type": "code",
   "execution_count": 8,
   "metadata": {},
   "outputs": [
    {
     "data": {
      "text/plain": [
       "array([51.52025, -0.09493])"
      ]
     },
     "execution_count": 8,
     "metadata": {},
     "output_type": "execute_result"
    }
   ],
   "source": [
    "\n",
    "coords[0]\n",
    "\n"
   ]
  },
  {
   "cell_type": "code",
   "execution_count": 4,
   "metadata": {},
   "outputs": [
    {
     "name": "stderr",
     "output_type": "stream",
     "text": [
      "100%|██████████| 188880/188880 [1:44:26<00:00, 30.14it/s]   \n"
     ]
    }
   ],
   "source": [
    "dist = p_map(get_dist,coords)\n",
    "\n",
    "\n",
    "\n",
    "\n"
   ]
  },
  {
   "cell_type": "code",
   "execution_count": 5,
   "metadata": {},
   "outputs": [],
   "source": [
    "cdata['dist'] = dist\n",
    "cdata.to_csv('distances.csv')"
   ]
  },
  {
   "cell_type": "code",
   "execution_count": 6,
   "metadata": {},
   "outputs": [
    {
     "data": {
      "text/html": [
       "<div>\n",
       "<style scoped>\n",
       "    .dataframe tbody tr th:only-of-type {\n",
       "        vertical-align: middle;\n",
       "    }\n",
       "\n",
       "    .dataframe tbody tr th {\n",
       "        vertical-align: top;\n",
       "    }\n",
       "\n",
       "    .dataframe thead th {\n",
       "        text-align: right;\n",
       "    }\n",
       "</style>\n",
       "<table border=\"1\" class=\"dataframe\">\n",
       "  <thead>\n",
       "    <tr style=\"text-align: right;\">\n",
       "      <th></th>\n",
       "      <th>oa21cd</th>\n",
       "      <th>lsoa21cd</th>\n",
       "      <th>msoa21cd</th>\n",
       "      <th>lng</th>\n",
       "      <th>lat</th>\n",
       "      <th>population</th>\n",
       "      <th>dist</th>\n",
       "    </tr>\n",
       "  </thead>\n",
       "  <tbody>\n",
       "    <tr>\n",
       "      <th>175566</th>\n",
       "      <td>E00187556</td>\n",
       "      <td>E01033400</td>\n",
       "      <td>E02006904</td>\n",
       "      <td>-1.14165</td>\n",
       "      <td>52.94549</td>\n",
       "      <td>110</td>\n",
       "      <td>2.596443</td>\n",
       "    </tr>\n",
       "    <tr>\n",
       "      <th>175556</th>\n",
       "      <td>E00187546</td>\n",
       "      <td>E01033400</td>\n",
       "      <td>E02006904</td>\n",
       "      <td>-1.14167</td>\n",
       "      <td>52.94551</td>\n",
       "      <td>297</td>\n",
       "      <td>2.596443</td>\n",
       "    </tr>\n",
       "    <tr>\n",
       "      <th>177125</th>\n",
       "      <td>E00189115</td>\n",
       "      <td>E01032976</td>\n",
       "      <td>E02007072</td>\n",
       "      <td>-0.95658</td>\n",
       "      <td>52.24134</td>\n",
       "      <td>146</td>\n",
       "      <td>4.447803</td>\n",
       "    </tr>\n",
       "    <tr>\n",
       "      <th>176992</th>\n",
       "      <td>E00188982</td>\n",
       "      <td>E01032976</td>\n",
       "      <td>E02007072</td>\n",
       "      <td>-0.95658</td>\n",
       "      <td>52.24138</td>\n",
       "      <td>143</td>\n",
       "      <td>4.447803</td>\n",
       "    </tr>\n",
       "    <tr>\n",
       "      <th>172439</th>\n",
       "      <td>E00184428</td>\n",
       "      <td>E01002160</td>\n",
       "      <td>E02000453</td>\n",
       "      <td>-0.34274</td>\n",
       "      <td>51.58048</td>\n",
       "      <td>134</td>\n",
       "      <td>5.323638</td>\n",
       "    </tr>\n",
       "    <tr>\n",
       "      <th>...</th>\n",
       "      <td>...</td>\n",
       "      <td>...</td>\n",
       "      <td>...</td>\n",
       "      <td>...</td>\n",
       "      <td>...</td>\n",
       "      <td>...</td>\n",
       "      <td>...</td>\n",
       "    </tr>\n",
       "    <tr>\n",
       "      <th>82618</th>\n",
       "      <td>E00087433</td>\n",
       "      <td>E01033239</td>\n",
       "      <td>E02003592</td>\n",
       "      <td>-1.51651</td>\n",
       "      <td>50.67481</td>\n",
       "      <td>271</td>\n",
       "      <td>302507.327733</td>\n",
       "    </tr>\n",
       "    <tr>\n",
       "      <th>131922</th>\n",
       "      <td>E00139266</td>\n",
       "      <td>E01027369</td>\n",
       "      <td>E02005705</td>\n",
       "      <td>-1.95463</td>\n",
       "      <td>55.31414</td>\n",
       "      <td>237</td>\n",
       "      <td>306721.621278</td>\n",
       "    </tr>\n",
       "    <tr>\n",
       "      <th>132034</th>\n",
       "      <td>E00139385</td>\n",
       "      <td>E01027388</td>\n",
       "      <td>E02005706</td>\n",
       "      <td>-1.99423</td>\n",
       "      <td>55.75342</td>\n",
       "      <td>344</td>\n",
       "      <td>311268.388131</td>\n",
       "    </tr>\n",
       "    <tr>\n",
       "      <th>131963</th>\n",
       "      <td>E00139308</td>\n",
       "      <td>E01027375</td>\n",
       "      <td>E02005708</td>\n",
       "      <td>-1.95666</td>\n",
       "      <td>55.51463</td>\n",
       "      <td>130</td>\n",
       "      <td>317359.654636</td>\n",
       "    </tr>\n",
       "    <tr>\n",
       "      <th>131996</th>\n",
       "      <td>E00139345</td>\n",
       "      <td>E01027381</td>\n",
       "      <td>E02005708</td>\n",
       "      <td>-1.97603</td>\n",
       "      <td>55.65090</td>\n",
       "      <td>364</td>\n",
       "      <td>340949.690904</td>\n",
       "    </tr>\n",
       "  </tbody>\n",
       "</table>\n",
       "<p>188880 rows × 7 columns</p>\n",
       "</div>"
      ],
      "text/plain": [
       "           oa21cd   lsoa21cd   msoa21cd      lng       lat  population  \\\n",
       "175566  E00187556  E01033400  E02006904 -1.14165  52.94549         110   \n",
       "175556  E00187546  E01033400  E02006904 -1.14167  52.94551         297   \n",
       "177125  E00189115  E01032976  E02007072 -0.95658  52.24134         146   \n",
       "176992  E00188982  E01032976  E02007072 -0.95658  52.24138         143   \n",
       "172439  E00184428  E01002160  E02000453 -0.34274  51.58048         134   \n",
       "...           ...        ...        ...      ...       ...         ...   \n",
       "82618   E00087433  E01033239  E02003592 -1.51651  50.67481         271   \n",
       "131922  E00139266  E01027369  E02005705 -1.95463  55.31414         237   \n",
       "132034  E00139385  E01027388  E02005706 -1.99423  55.75342         344   \n",
       "131963  E00139308  E01027375  E02005708 -1.95666  55.51463         130   \n",
       "131996  E00139345  E01027381  E02005708 -1.97603  55.65090         364   \n",
       "\n",
       "                 dist  \n",
       "175566       2.596443  \n",
       "175556       2.596443  \n",
       "177125       4.447803  \n",
       "176992       4.447803  \n",
       "172439       5.323638  \n",
       "...               ...  \n",
       "82618   302507.327733  \n",
       "131922  306721.621278  \n",
       "132034  311268.388131  \n",
       "131963  317359.654636  \n",
       "131996  340949.690904  \n",
       "\n",
       "[188880 rows x 7 columns]"
      ]
     },
     "execution_count": 6,
     "metadata": {},
     "output_type": "execute_result"
    }
   ],
   "source": [
    "cdata.sort_values('dist')"
   ]
  },
  {
   "cell_type": "code",
   "execution_count": 24,
   "metadata": {},
   "outputs": [
    {
     "data": {
      "text/plain": [
       "<AxesSubplot:ylabel='Frequency'>"
      ]
     },
     "execution_count": 24,
     "metadata": {},
     "output_type": "execute_result"
    },
    {
     "data": {
      "image/png": "[encoded data removed]",
      "text/plain": [
       "<Figure size 432x288 with 1 Axes>"
      ]
     },
     "metadata": {
      "needs_background": "light"
     },
     "output_type": "display_data"
    }
   ],
   "source": [
    "cdata.sort_values('dist')['dist'].plot(kind='hist')"
   ]
  },
  {
   "cell_type": "code",
   "execution_count": 25,
   "metadata": {},
   "outputs": [
    {
     "name": "stdout",
     "output_type": "stream",
     "text": [
      "---- LAT ----\n",
      "0.1 6997.732601117092 metres\n",
      "0.01 699.7733132174285 metres\n",
      "0.001 69.97733137484857 metres\n",
      "0.0001 6.997733137537963 metres\n",
      "1e-05 0.6997733137538494 metres\n",
      "1e-06 0.06997733137538499 metres\n",
      "---- LNG ----\n",
      "0.1 11119.508023353306 metres\n",
      "0.01 1111.9508023352598 metres\n",
      "0.001 111.19508023324306 metres\n",
      "0.0001 11.119508023465771 metres\n",
      "1e-05 1.1119508024880418 metres\n",
      "1e-06 0.11119507996587456 metres\n"
     ]
    },
    {
     "data": {
      "text/plain": [
       "('centre point', [51, 0])"
      ]
     },
     "execution_count": 25,
     "metadata": {},
     "output_type": "execute_result"
    }
   ],
   "source": [
    "# lat \n",
    "\n",
    "test = [51,0]\n",
    "print('---- LAT ----')\n",
    "for i in  range(1,7):\n",
    "    compare = test.copy()\n",
    "    delta = eval('1e-'+str(i))\n",
    "\n",
    "    compare[1] -= delta\n",
    "    d = haversine(test,compare,unit=Unit.METERS)\n",
    "    print(delta,d,'metres')\n",
    "\n",
    "\n",
    "print('---- LNG ----')\n",
    "for i in  range(1,7):\n",
    "    compare = test.copy()\n",
    "    delta = eval('1e-'+str(i))\n",
    "\n",
    "    compare[0] += delta\n",
    "    d = haversine(test,compare,unit=Unit.METERS)\n",
    "    print(delta,d,'metres')\n",
    "\n",
    "'centre point',test\n",
    "\n"
   ]
  },
  {
   "cell_type": "code",
   "execution_count": 19,
   "metadata": {},
   "outputs": [
    {
     "data": {
      "text/html": [
       "<div>\n",
       "<style scoped>\n",
       "    .dataframe tbody tr th:only-of-type {\n",
       "        vertical-align: middle;\n",
       "    }\n",
       "\n",
       "    .dataframe tbody tr th {\n",
       "        vertical-align: top;\n",
       "    }\n",
       "\n",
       "    .dataframe thead th {\n",
       "        text-align: right;\n",
       "    }\n",
       "</style>\n",
       "<table border=\"1\" class=\"dataframe\">\n",
       "  <thead>\n",
       "    <tr style=\"text-align: right;\">\n",
       "      <th></th>\n",
       "      <th>lng</th>\n",
       "      <th>lat</th>\n",
       "      <th>population</th>\n",
       "      <th>dist</th>\n",
       "    </tr>\n",
       "  </thead>\n",
       "  <tbody>\n",
       "    <tr>\n",
       "      <th>count</th>\n",
       "      <td>188880.000000</td>\n",
       "      <td>188880.000000</td>\n",
       "      <td>188880.000000</td>\n",
       "      <td>188880.000000</td>\n",
       "    </tr>\n",
       "    <tr>\n",
       "      <th>mean</th>\n",
       "      <td>-1.326959</td>\n",
       "      <td>52.352274</td>\n",
       "      <td>315.531200</td>\n",
       "      <td>12654.445990</td>\n",
       "    </tr>\n",
       "    <tr>\n",
       "      <th>std</th>\n",
       "      <td>1.304386</td>\n",
       "      <td>1.130842</td>\n",
       "      <td>94.890311</td>\n",
       "      <td>24129.125840</td>\n",
       "    </tr>\n",
       "    <tr>\n",
       "      <th>min</th>\n",
       "      <td>-6.352830</td>\n",
       "      <td>49.913340</td>\n",
       "      <td>98.000000</td>\n",
       "      <td>2.596443</td>\n",
       "    </tr>\n",
       "    <tr>\n",
       "      <th>25%</th>\n",
       "      <td>-2.208755</td>\n",
       "      <td>51.476610</td>\n",
       "      <td>263.000000</td>\n",
       "      <td>929.687963</td>\n",
       "    </tr>\n",
       "    <tr>\n",
       "      <th>50%</th>\n",
       "      <td>-1.355760</td>\n",
       "      <td>52.110880</td>\n",
       "      <td>306.000000</td>\n",
       "      <td>3368.378963</td>\n",
       "    </tr>\n",
       "    <tr>\n",
       "      <th>75%</th>\n",
       "      <td>-0.225565</td>\n",
       "      <td>53.366135</td>\n",
       "      <td>355.000000</td>\n",
       "      <td>12889.667053</td>\n",
       "    </tr>\n",
       "    <tr>\n",
       "      <th>max</th>\n",
       "      <td>1.755900</td>\n",
       "      <td>55.786280</td>\n",
       "      <td>4501.000000</td>\n",
       "      <td>340949.690904</td>\n",
       "    </tr>\n",
       "  </tbody>\n",
       "</table>\n",
       "</div>"
      ],
      "text/plain": [
       "                 lng            lat     population           dist\n",
       "count  188880.000000  188880.000000  188880.000000  188880.000000\n",
       "mean       -1.326959      52.352274     315.531200   12654.445990\n",
       "std         1.304386       1.130842      94.890311   24129.125840\n",
       "min        -6.352830      49.913340      98.000000       2.596443\n",
       "25%        -2.208755      51.476610     263.000000     929.687963\n",
       "50%        -1.355760      52.110880     306.000000    3368.378963\n",
       "75%        -0.225565      53.366135     355.000000   12889.667053\n",
       "max         1.755900      55.786280    4501.000000  340949.690904"
      ]
     },
     "execution_count": 19,
     "metadata": {},
     "output_type": "execute_result"
    }
   ],
   "source": [
    "cdata.describe()\n"
   ]
  },
  {
   "cell_type": "code",
   "execution_count": 56,
   "metadata": {},
   "outputs": [],
   "source": [
    "\n",
    "def shrink(x):\n",
    "\n",
    "    '''---- LAT ----\n",
    "    0.1 6997.732601117092 metres\n",
    "    0.01 699.7733132174285 metres\n",
    "    0.001 69.97733137484857 metres\n",
    "    0.0001 6.997733137537963 metres\n",
    "    1e-05 0.6997733137538494 metres\n",
    "    1e-06 0.06997733137538499 metres\n",
    "    ---- LNG ----\n",
    "    0.1 11119.508023353306 metres\n",
    "    0.01 1111.9508023352598 metres\n",
    "    0.001 111.19508023324306 metres\n",
    "    0.0001 11.119508023465771 metres\n",
    "    1e-05 1.1119508024880418 metres\n",
    "    1e-06 0.11119507996587456 metres\n",
    "    ('centre point', [51, 0])'''\n",
    "\n",
    "    x=x[1]\n",
    "    dist = x.dist\n",
    "\n",
    "    if dist < 50:\n",
    "        decimal = 5\n",
    "    elif dist < 100: \n",
    "        decimal = 4\n",
    "    elif dist < 1000:\n",
    "        decimal = 3\n",
    "    elif dist < 2000:\n",
    "        decimal = 2\n",
    "    else: decimal=1\n",
    "\n",
    "\n",
    "    x['lat'] = str(round(float(x['lat']),decimal))\n",
    "    x['lng'] = str(round(float(x['lng']),decimal))\n",
    "\n",
    "    return x.values\n",
    "\n",
    "\n",
    "\n",
    "\n",
    "\n",
    "    \n",
    "    "
   ]
  },
  {
   "cell_type": "code",
   "execution_count": 58,
   "metadata": {},
   "outputs": [],
   "source": [
    "df = pd.DataFrame(map(shrink,cdata.iterrows()))\n",
    "\n"
   ]
  },
  {
   "cell_type": "code",
   "execution_count": 65,
   "metadata": {},
   "outputs": [],
   "source": [
    "df.columns = cdata.columns\n",
    "df = df.drop('dist',axis=1)"
   ]
  },
  {
   "cell_type": "code",
   "execution_count": 67,
   "metadata": {},
   "outputs": [],
   "source": [
    "df.to_csv('oa21-data-v3.csv',index=False)"
   ]
  },
  {
   "cell_type": "code",
   "execution_count": 73,
   "metadata": {},
   "outputs": [
    {
     "name": "stdout",
     "output_type": "stream",
     "text": [
      "19740928 bits\n"
     ]
    },
    {
     "data": {
      "text/plain": [
       "(8519275, 9753083, 1233808)"
      ]
     },
     "execution_count": 73,
     "metadata": {},
     "output_type": "execute_result"
    }
   ],
   "source": [
    "new = len(open('oa21-data-v3.csv').read())\n",
    "old = len(open('oa21-data-v2.csv').read())\n",
    "diff = old-new\n",
    "\n",
    "\n",
    "\n",
    "new, old, diff\n",
    "\n",
    "\n"
   ]
  },
  {
   "cell_type": "code",
   "execution_count": null,
   "metadata": {},
   "outputs": [],
   "source": []
  }
 ],
 "metadata": {
  "kernelspec": {
   "display_name": "Python 3.9.7 ('DataServer')",
   "language": "python",
   "name": "python3"
  },
  "language_info": {
   "codemirror_mode": {
    "name": "ipython",
    "version": 3
   },
   "file_extension": ".py",
   "mimetype": "text/x-python",
   "name": "python",
   "nbconvert_exporter": "python",
   "pygments_lexer": "ipython3",
   "version": "3.9.7"
  },
  "orig_nbformat": 4,
  "vscode": {
   "interpreter": {
    "hash": "9da6e78936f6a8ab907bad03d2fac666a6d46a2192eea18a6af8d3db83b62898"
   }
  }
 },
 "nbformat": 4,
 "nbformat_minor": 2
}
