{
 "cells": [
  {
   "cell_type": "code",
   "execution_count": 52,
   "metadata": {},
   "outputs": [],
   "source": [
    "import os,re,sys,glob\n",
    "\n"
   ]
  },
  {
   "cell_type": "code",
   "execution_count": 53,
   "metadata": {},
   "outputs": [
    {
     "name": "stdout",
     "output_type": "stream",
     "text": [
      "18\n"
     ]
    }
   ],
   "source": [
    "\n",
    "def extract(domain):\n",
    "    used = os.popen(f\"grep -inr '$lib/' {domain}*\").read()\n",
    "    return list(set(re.findall(r\"['\\\"]\\$(lib[^']+)['\\\"]\",used)))\n",
    "\n",
    "\n",
    "\n",
    "files = list(set(extract('')) - set(['lib/']))\n",
    "print(len(files))\n"
   ]
  },
  {
   "cell_type": "code",
   "execution_count": 54,
   "metadata": {},
   "outputs": [],
   "source": [
    "def nest(domain):\n",
    "    used = os.popen(f\"grep -inr 'import' {domain}*\").read()\n",
    "    # files in lib use relative imports\n",
    "    found = list(set(re.findall(r\"['\\\"]\\.+\\/([^'\\\"]+)['\\\"]\",used)))\n",
    "    dpath = '/'.join(domain.split('/')[:-1])\n",
    "    return [f'{dpath}/{i}' for i in set(found)]\n",
    "\n"
   ]
  },
  {
   "cell_type": "code",
   "execution_count": 55,
   "metadata": {},
   "outputs": [
    {
     "name": "stderr",
     "output_type": "stream",
     "text": [
      "grep: lib/../node_modules/iconv-lite/lib/index.js*: No such file or directory\n",
      "grep: lib/../node_modules/iconv-lite/lib/index.js*: No such file or directory\n",
      "grep: lib/../node_modules/iconv-lite/lib/index.js*: No such file or directory\n"
     ]
    },
    {
     "name": "stdout",
     "output_type": "stream",
     "text": [
      "23\n"
     ]
    }
   ],
   "source": [
    "#  recusive\n",
    "\n",
    "fl = len(files)\n",
    "while True:\n",
    "    for rf in files:\n",
    "        files.extend(nest(rf)) \n",
    "\n",
    "    files = list(set(files))\n",
    "    \n",
    "    nl = len(files)\n",
    "    if nl == fl: break\n",
    "    else: fl = nl\n",
    "\n",
    "print(nl)"
   ]
  },
  {
   "cell_type": "code",
   "execution_count": 56,
   "metadata": {},
   "outputs": [],
   "source": [
    "# allfiles = glob.glob('lib/*/*/*')\n",
    "allfiles = os.popen('find lib -print').read().split()\n"
   ]
  },
  {
   "cell_type": "code",
   "execution_count": 57,
   "metadata": {},
   "outputs": [
    {
     "name": "stdout",
     "output_type": "stream",
     "text": [
      "1 lib/ui/Tooltip.svelte\n",
      "2 lib/ui/Icon.svelte\n",
      "3 lib/ui/tooltip.js\n",
      "4 lib/ui/Select.svelte\n",
      "5 lib/ui/SelectInner.svelte\n",
      "6 lib/ui/Slider.svelte\n",
      "7 lib/tables/MapAreas.svelte\n",
      "8 lib/tables/BarChart.svelte\n",
      "9 lib/tables/ProfileChart.svelte\n",
      "10 lib/tables/cards/ProfileChart.svelte\n",
      "11 lib/tables/cards/BigNumber.svelte\n",
      "12 lib/mapshaper.js\n",
      "13 lib/util/functions.js\n",
      "14 lib/layout/ONSHeader.svelte\n",
      "15 lib/layout/partial/Card.svelte\n",
      "16 lib/layout/ONSLogo.svelte\n",
      "17 lib/layout/Title.svelte\n",
      "18 lib/layout/Cards.svelte\n",
      "19 lib/layout/CensusLogo.svelte\n",
      "20 lib/draw/css/mapbox-gl.css\n",
      "21 lib/topics.json\n"
     ]
    },
    {
     "name": "stderr",
     "output_type": "stream",
     "text": [
      "rm: copy.json: No such file or directory\n"
     ]
    }
   ],
   "source": [
    "c = 0\n",
    "for test in allfiles:\n",
    "    if sum([f in test for f in files])>0:\n",
    "        c+=1\n",
    "        print(c, test)\n",
    "    else:\n",
    "        # os.system('rm')\n",
    "        if '.' in test:\n",
    "            try: os.system('rm '+test.replace(' ','\\ '))\n",
    "            except: print('skipping',test)\n"
   ]
  },
  {
   "cell_type": "code",
   "execution_count": 58,
   "metadata": {},
   "outputs": [
    {
     "name": "stdout",
     "output_type": "stream",
     "text": [
      "66 deleted\n"
     ]
    }
   ],
   "source": [
    "print(len(allfiles)-c, 'deleted')"
   ]
  },
  {
   "cell_type": "code",
   "execution_count": 59,
   "metadata": {},
   "outputs": [
    {
     "name": "stdout",
     "output_type": "stream",
     "text": [
      "deleted 0 lib/chart\n",
      "deleted 1 lib/draw/Toolbar\n",
      "deleted 2 lib/share\n"
     ]
    }
   ],
   "source": [
    "#  clean empty dirs\n",
    "ed = 0\n",
    "for dir in allfiles:\n",
    "    try:\n",
    "        if not os.listdir(dir):\n",
    "            os.rmdir(dir)\n",
    "            print('deleted',ed,dir)\n",
    "            ed+=1\n",
    "    except FileNotFoundError:...\n",
    "    except NotADirectoryError:...\n",
    "\n"
   ]
  },
  {
   "cell_type": "code",
   "execution_count": null,
   "metadata": {},
   "outputs": [],
   "source": []
  }
 ],
 "metadata": {
  "kernelspec": {
   "display_name": "Python 3.9.7 ('DataServer')",
   "language": "python",
   "name": "python3"
  },
  "language_info": {
   "codemirror_mode": {
    "name": "ipython",
    "version": 3
   },
   "file_extension": ".py",
   "mimetype": "text/x-python",
   "name": "python",
   "nbconvert_exporter": "python",
   "pygments_lexer": "ipython3",
   "version": "3.9.7"
  },
  "orig_nbformat": 4,
  "vscode": {
   "interpreter": {
    "hash": "9da6e78936f6a8ab907bad03d2fac666a6d46a2192eea18a6af8d3db83b62898"
   }
  }
 },
 "nbformat": 4,
 "nbformat_minor": 2
}
